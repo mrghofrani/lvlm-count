{
 "cells": [
  {
   "cell_type": "code",
   "execution_count": 13,
   "id": "fa79f2c2-7d17-4a51-9522-93c411578190",
   "metadata": {},
   "outputs": [],
   "source": [
    "import pandas as pd"
   ]
  },
  {
   "cell_type": "code",
   "execution_count": null,
   "id": "0f2ad068-53c7-49d6-ac1d-618405e4c8c9",
   "metadata": {},
   "outputs": [],
   "source": [
    "acc = 0\n",
    "acc1 = 0\n",
    "acc3 = 0\n",
    "acc5 = 0\n",
    "acc10 = 0\n",
    "\n",
    "df = pd.read_csv(\"Path to the file with the predictions\")\n",
    "df['llm_count'] = df['pred_count']\n",
    "\n",
    "for _, row in df.iterrows():\n",
    "    difference = abs(row['llm_count'] - row['answer'])\n",
    "\n",
    "    if difference == 0:\n",
    "        acc += 1\n",
    "    if difference <= 1:\n",
    "        acc1 += 1\n",
    "    if difference <= 3:\n",
    "        acc3 += 1\n",
    "    if difference <= 5:\n",
    "        acc5 += 1\n",
    "    if difference <=10:\n",
    "        acc10 += 1\n",
    "\n",
    "\n",
    "\n",
    "print(\"Accuracy\", acc/len(df))\n",
    "print(\"Accuracy1\", acc1/len(df))\n",
    "print(\"Accuracy3\", acc3/len(df))\n",
    "print(\"Accuracy5\", acc5/len(df))\n",
    "print(\"Accuracy10\", acc10/len(df))\n",
    "\n",
    "print(f\"{acc/len(df)}\\t{acc1/len(df)}\\t{acc3/len(df)}\\t{acc5/len(df)}\\t{acc10/len(df)}\")"
   ]
  }
 ],
 "metadata": {
  "kernelspec": {
   "display_name": "ghenv",
   "language": "python",
   "name": "python3"
  },
  "language_info": {
   "codemirror_mode": {
    "name": "ipython",
    "version": 3
   },
   "file_extension": ".py",
   "mimetype": "text/x-python",
   "name": "python",
   "nbconvert_exporter": "python",
   "pygments_lexer": "ipython3",
   "version": "3.10.14"
  }
 },
 "nbformat": 4,
 "nbformat_minor": 5
}
